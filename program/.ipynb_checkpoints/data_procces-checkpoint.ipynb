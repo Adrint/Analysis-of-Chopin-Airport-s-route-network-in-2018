{
 "cells": [
  {
   "cell_type": "code",
   "execution_count": 26,
   "id": "ff3f109b-6161-425e-945a-17ccbaaee1d7",
   "metadata": {},
   "outputs": [],
   "source": [
    "import json\n",
    "import os\n",
    "import re"
   ]
  },
  {
   "cell_type": "code",
   "execution_count": 27,
   "id": "5f1cbb06-8da6-4b52-b17f-44ebe16240a4",
   "metadata": {},
   "outputs": [],
   "source": [
    "#ściezka z danymi origin\n",
    "input_folder_orig = r'D:\\repo_git\\ONS\\data\\Lotnisko_chopen_origin\\json'\n",
    "output_folder_orig = r'D:\\repo_git\\ONS\\data\\chopin\\orig'\n",
    "\n",
    "#lista plikow origin\n",
    "file_list_orig = ['1.json', '2.json', '3.json', '4.json', '5.json', '6.json','7.json', '8.json', '9.json', '10.json', '11.json', '12.json']"
   ]
  },
  {
   "cell_type": "code",
   "execution_count": 28,
   "id": "1b3d6a80-ffe0-4b0f-83f1-e2968b2c8e99",
   "metadata": {},
   "outputs": [],
   "source": [
    "# Funkcja sprawdzająca, czy dest spełnia kryteria\n",
    "def is_valid_dest(dest):\n",
    "    return bool(re.fullmatch(r\"[A-Z]{4}\", dest))"
   ]
  },
  {
   "cell_type": "code",
   "execution_count": 29,
   "id": "d07614af-7a7f-4111-ad90-e69c52fa5a01",
   "metadata": {},
   "outputs": [],
   "source": [
    "# Przetwarzanie plików z listy origin\n",
    "for filename in file_list_orig:\n",
    "    input_file_path = os.path.join(input_folder_orig, filename)\n",
    "    output_file_path = os.path.join(output_folder_orig, filename)\n",
    "\n",
    "    with open(input_file_path, 'r', encoding='utf-8') as infile:\n",
    "        lines = infile.readlines()\n",
    "\n",
    "    valid_lines = []\n",
    "    for line in lines:\n",
    "        line = line.strip()  # Usuwa białe znaki na początku i końcu linii\n",
    "        if line:  # Sprawdza, czy linia nie jest pusta\n",
    "            try:\n",
    "                data = json.loads(line)\n",
    "                if is_valid_dest(data.get(\"dest\", \"\")):\n",
    "                    valid_lines.append(line + \"\\n\")\n",
    "            except json.JSONDecodeError:\n",
    "                print(f\"Błąd dekodowania JSON w pliku {filename}, linia: {line}\")\n",
    "\n",
    "    with open(output_file_path, 'w', encoding='utf-8') as outfile:\n",
    "        outfile.writelines(valid_lines)\n",
    "        "
   ]
  },
  {
   "cell_type": "code",
   "execution_count": 32,
   "id": "551077de-6fe7-4ca8-8b71-1db96b5a2337",
   "metadata": {},
   "outputs": [],
   "source": [
    "input_folder_dest= r'D:\\repo_git\\ONS\\data\\Lotnisko_chopin_dest'\n",
    "output_folder_dest = r'D:\\repo_git\\ONS\\data\\chopin\\dest'\n",
    "#Lista plikow destination\n",
    "file_list_dest = ['1.json', '2.json', '3.json', '4.json', '5.json', '6.json','7.json']\n",
    "                 # ,'8.json', '9.json', '10.json', '11.json', '12.json']"
   ]
  },
  {
   "cell_type": "code",
   "execution_count": 33,
   "id": "b5a9ed80-28a0-497a-abe6-9d745297c02e",
   "metadata": {},
   "outputs": [],
   "source": [
    "# Przetwarzanie plików z lisyt destination\n",
    "for filename in file_list_dest:\n",
    "    input_file_path = os.path.join(input_folder_dest, filename)\n",
    "    output_file_path = os.path.join(output_folder_dest, filename)\n",
    "\n",
    "    with open(input_file_path, 'r', encoding='utf-8') as infile:\n",
    "        lines = infile.readlines()\n",
    "\n",
    "    valid_lines = []\n",
    "    for line in lines:\n",
    "        line = line.strip()  # Usuwa białe znaki na początku i końcu linii\n",
    "        if line:  # Sprawdza, czy linia nie jest pusta\n",
    "            try:\n",
    "                data = json.loads(line)\n",
    "                if is_valid_dest(data.get(\"dest\", \"\")):\n",
    "                    valid_lines.append(line + \"\\n\")\n",
    "            except json.JSONDecodeError:\n",
    "                print(f\"Błąd dekodowania JSON w pliku {filename}, linia: {line}\")\n",
    "\n",
    "    with open(output_file_path, 'w', encoding='utf-8') as outfile:\n",
    "        outfile.writelines(valid_lines)"
   ]
  },
  {
   "cell_type": "code",
   "execution_count": null,
   "id": "c6ef13a5-ec14-43b0-80c3-29e55092b4dd",
   "metadata": {},
   "outputs": [],
   "source": []
  }
 ],
 "metadata": {
  "kernelspec": {
   "display_name": "Python 3 (ipykernel)",
   "language": "python",
   "name": "python3"
  },
  "language_info": {
   "codemirror_mode": {
    "name": "ipython",
    "version": 3
   },
   "file_extension": ".py",
   "mimetype": "text/x-python",
   "name": "python",
   "nbconvert_exporter": "python",
   "pygments_lexer": "ipython3",
   "version": "3.11.1"
  }
 },
 "nbformat": 4,
 "nbformat_minor": 5
}
