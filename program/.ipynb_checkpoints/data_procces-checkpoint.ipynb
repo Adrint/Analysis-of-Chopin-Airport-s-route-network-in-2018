{
 "cells": [
  {
   "cell_type": "code",
   "execution_count": 47,
   "id": "ff3f109b-6161-425e-945a-17ccbaaee1d7",
   "metadata": {},
   "outputs": [],
   "source": [
    "import json\n",
    "import os\n",
    "import re"
   ]
  },
  {
   "cell_type": "code",
   "execution_count": 68,
   "id": "5f1cbb06-8da6-4b52-b17f-44ebe16240a4",
   "metadata": {},
   "outputs": [],
   "source": [
    "#ściezka z danymi origin\n",
    "input_folder_orig = r'A:\\repo_git\\ONS\\data\\Lotnisko_chopen_origin\\json'\n",
    "output_folder_orig = r'A:\\repo_git\\ONS\\data\\chopin\\orig'\n",
    "\n",
    "#input_folder_orig = r'C:\\Users\\Adam\\Desktop\\ONS\\data\\Lotnisko_chopen_origin\\json'\n",
    "#output_folder_orig = r'C:\\Users\\Adam\\Desktop\\ONS\\data\\chopin\\orig'\n",
    "\n",
    "#lista plikow origin\n",
    "file_list_orig = ['1.json', '2.json', '3.json', '4.json', '5.json', '6.json','7.json', '8.json', '9.json', '10.json', '11.json', '12.json']"
   ]
  },
  {
   "cell_type": "code",
   "execution_count": 81,
   "id": "1b3d6a80-ffe0-4b0f-83f1-e2968b2c8e99",
   "metadata": {},
   "outputs": [],
   "source": [
    "# Lista niechcianych wartości w kolumnach 'orig' i 'dest'\n",
    "unwanted_dest = ['LFAV', 'LFTB', 'LSGL', 'LFKM','OPRN','EDTX','LYPJ','KXNX','ZZZZ','LYPO','EHBD','EBZW']\n",
    "\n",
    "# Funkcja sprawdzająca, czy 'orig' lub 'dest' spełniają kryteria\n",
    "def is_valid_orig_dest(data):\n",
    "    def is_valid_dest(dest):\n",
    "        return bool(re.fullmatch(r\"[A-Z]{4}\", dest))\n",
    "\n",
    "    orig = data.get(\"orig\")\n",
    "    dest = data.get(\"dest\")\n",
    "\n",
    "    # Sprawdzenie warunków\n",
    "    if orig in unwanted_orig_dest or dest in unwanted_orig_dest:\n",
    "        return False\n",
    "    if not is_valid_dest(dest):\n",
    "        return False\n",
    "    return True"
   ]
  },
  {
   "cell_type": "code",
   "execution_count": 82,
   "id": "d07614af-7a7f-4111-ad90-e69c52fa5a01",
   "metadata": {},
   "outputs": [],
   "source": [
    "for filename in file_list_orig:\n",
    "    input_file_path = os.path.join(input_folder_orig, filename)\n",
    "    output_file_path = os.path.join(output_folder_orig, filename)\n",
    "\n",
    "    with open(input_file_path, 'r', encoding='utf-8') as infile:\n",
    "        lines = infile.readlines()\n",
    "\n",
    "    valid_lines = []\n",
    "    for line in lines:\n",
    "        line = line.strip()  # Usuwa białe znaki na początku i końcu linii\n",
    "        if line:  # Sprawdza, czy linia nie jest pusta\n",
    "            try:\n",
    "                data = json.loads(line)\n",
    "                if is_valid_orig_dest(data):\n",
    "                    valid_lines.append(line + \"\\n\")\n",
    "            except json.JSONDecodeError:\n",
    "                print(f\"Błąd dekodowania JSON w pliku {filename}, linia: {line}\")\n",
    "\n",
    "    with open(output_file_path, 'w', encoding='utf-8') as outfile:\n",
    "        outfile.writelines(valid_lines)"
   ]
  },
  {
   "cell_type": "code",
   "execution_count": 83,
   "id": "551077de-6fe7-4ca8-8b71-1db96b5a2337",
   "metadata": {},
   "outputs": [],
   "source": [
    "input_folder_dest= r'A:\\repo_git\\ONS\\data\\Lotnisko_chopin_dest'\n",
    "output_folder_dest = r'A:\\repo_git\\ONS\\data\\chopin\\dest'\n",
    "\n",
    "#input_folder_dest = r'C:\\Users\\Adam\\Desktop\\ONS\\data\\Lotnisko_chopin_dest'\n",
    "#output_folder_dest = r'C:\\Users\\Adam\\Desktop\\ONS\\data\\chopin\\dest'\n",
    "\n",
    "#Lista plikow destination\n",
    "file_list_dest = ['1.json', '2.json', '3.json', '4.json', '5.json', '6.json','7.json','8.json', '9.json', '10.json', '11.json', '12.json']"
   ]
  },
  {
   "cell_type": "code",
   "execution_count": 84,
   "id": "81c5407c-123e-44eb-a51c-7b7004344147",
   "metadata": {},
   "outputs": [],
   "source": [
    "unwanted_orig = ['LFAV', 'LFTB', 'LSGL', 'LFKM','OPRN','EDTX','LYPJ','KXNX','ZZZZ','LYPO','EHBD','EBZW']\n",
    "\n",
    "# Funkcja sprawdzająca, czy 'orig' lub 'dest' spełniają kryteria\n",
    "def is_valid_orig_dest(data):\n",
    "    def is_valid_code(code):\n",
    "        return bool(re.fullmatch(r\"[A-Z]{4}\", orig))\n",
    "\n",
    "    orig = data.get(\"orig\")\n",
    "    dest = data.get(\"dest\")\n",
    "\n",
    "    # Sprawdzenie warunków dla 'orig' i 'dest'\n",
    "    if orig in unwanted_orig_dest or dest in unwanted_orig_dest:\n",
    "        return False\n",
    "    if not is_valid_code(dest):\n",
    "        return False\n",
    "    return True"
   ]
  },
  {
   "cell_type": "code",
   "execution_count": 85,
   "id": "b5a9ed80-28a0-497a-abe6-9d745297c02e",
   "metadata": {},
   "outputs": [],
   "source": [
    "for filename in file_list_orig:\n",
    "    input_file_path = os.path.join(input_folder_dest, filename)\n",
    "    output_file_path = os.path.join(output_folder_dest, filename)\n",
    "\n",
    "    with open(input_file_path, 'r', encoding='utf-8') as infile:\n",
    "        lines = infile.readlines()\n",
    "\n",
    "    valid_lines = []\n",
    "    for line in lines:\n",
    "        line = line.strip()  # Usuwa białe znaki na początku i końcu linii\n",
    "        if line:  # Sprawdza, czy linia nie jest pusta\n",
    "            try:\n",
    "                data = json.loads(line)\n",
    "                if is_valid_orig_dest(data):\n",
    "                    valid_lines.append(line + \"\\n\")\n",
    "            except json.JSONDecodeError:\n",
    "                print(f\"Błąd dekodowania JSON w pliku {filename}, linia: {line}\")\n",
    "\n",
    "    with open(output_file_path, 'w', encoding='utf-8') as outfile:\n",
    "        outfile.writelines(valid_lines)"
   ]
  },
  {
   "cell_type": "code",
   "execution_count": 86,
   "id": "c6ef13a5-ec14-43b0-80c3-29e55092b4dd",
   "metadata": {},
   "outputs": [
    {
     "name": "stdout",
     "output_type": "stream",
     "text": [
      "Dane zapisano do pliku: A:\\repo_git\\ONS\\data\\combined_iata_icao.csv\n"
     ]
    }
   ],
   "source": [
    "import pandas as pd\n",
    "\n",
    "# Ścieżka do istniejącego pliku CSV\n",
    "existing_csv_path = r'A:\\repo_git\\ONS\\data\\iata-icao.csv'\n",
    "\n",
    "# Wczytaj istniejący plik CSV\n",
    "df_existing = pd.read_csv(existing_csv_path)\n",
    "\n",
    "# Dane do dodania\n",
    "icao_data = [\n",
    "    {\"country_code\": \"FR\", \"region_name\": \"France\", \"iata\": \"\", \"icao\": \"LFSB\", \"airport\": \"EuroAirport Basel Mulhouse Freiburg\", \"latitude\": \"\", \"longitude\": \"\"},\n",
    "    {\"country_code\": \"IT\", \"region_name\": \"Italy\", \"iata\": \"\", \"icao\": \"LIME\", \"airport\": \"Orio al Serio International Airport\", \"latitude\": \"\", \"longitude\": \"\"},\n",
    "    {\"country_code\": \"SE\", \"region_name\": \"Sweden\", \"iata\": \"\", \"icao\": \"ESMS\", \"airport\": \"Malmö Airport\", \"latitude\": \"\", \"longitude\": \"\"},\n",
    "    {\"country_code\": \"PT\", \"region_name\": \"Portugal\", \"iata\": \"\", \"icao\": \"LPFB\", \"airport\": \"Lisbon Humberto Delgado Airport\", \"latitude\": \"\", \"longitude\": \"\"},\n",
    "    {\"country_code\": \"PL\", \"region_name\": \"Poland\", \"iata\": \"\", \"icao\": \"EPKA\", \"airport\": \"Kraków John Paul II International Airport\", \"latitude\": \"\", \"longitude\": \"\"},\n",
    "    {\"country_code\": \"\", \"region_name\": \"\", \"iata\": \"\", \"icao\": \"LTJB\", \"airport\": \"\", \"latitude\": \"\", \"longitude\": \"\"},\n",
    "    {\"country_code\": \"\", \"region_name\": \"\", \"iata\": \"\", \"icao\": \"LFAV\", \"airport\": \"\", \"latitude\": \"\", \"longitude\": \"\"},\n",
    "    {\"country_code\": \"\", \"region_name\": \"\", \"iata\": \"\", \"icao\": \"LFTB\", \"airport\": \"\", \"latitude\": \"\", \"longitude\": \"\"},\n",
    "    {\"country_code\": \"RU\", \"region_name\": \"Russia\", \"iata\": \"\", \"icao\": \"UUDD\", \"airport\": \"Sheremetyevo International Airport\", \"latitude\": \"\", \"longitude\": \"\"},\n",
    "    {\"country_code\": \"BR\", \"region_name\": \"Brazil\", \"iata\": \"\", \"icao\": \"SBGL\", \"airport\": \"Rio de Janeiro–Galeão International Airport\", \"latitude\": \"\", \"longitude\": \"\"},\n",
    "    {\"country_code\": \"BE\", \"region_name\": \"Belgium\", \"iata\": \"\", \"icao\": \"EBMB\", \"airport\": \"Brussels Airport\", \"latitude\": \"\", \"longitude\": \"\"},\n",
    "    {\"country_code\": \"ES\", \"region_name\": \"Spain\", \"iata\": \"\", \"icao\": \"GCTS\", \"airport\": \"Tenerife South Airport\", \"latitude\": \"\", \"longitude\": \"\"},\n",
    "    {\"country_code\": \"PT\", \"region_name\": \"Portugal\", \"iata\": \"\", \"icao\": \"LHPR\", \"airport\": \"Horta Airport\", \"latitude\": \"\", \"longitude\": \"\"},\n",
    "    {\"country_code\": \"IT\", \"region_name\": \"Italy\", \"iata\": \"\", \"icao\": \"LIRA\", \"airport\": \"Ciampino–G. B. Pastine International Airport\", \"latitude\": \"\", \"longitude\": \"\"},\n",
    "    {\"country_code\": \"FR\", \"region_name\": \"France\", \"iata\": \"\", \"icao\": \"LFPB\", \"airport\": \"Paris–Le Bourget Airport\", \"latitude\": \"\", \"longitude\": \"\"},\n",
    "    {\"country_code\": \"SE\", \"region_name\": \"Sweden\", \"iata\": \"\", \"icao\": \"ESKN\", \"airport\": \"Stockholm Skavsta Airport\", \"latitude\": \"\", \"longitude\": \"\"},\n",
    "    {\"country_code\": \"SE\", \"region_name\": \"Sweden\", \"iata\": \"\", \"icao\": \"ESSB\", \"airport\": \"Stockholm Bromma Airport\", \"latitude\": \"\", \"longitude\": \"\"},\n",
    "    {\"country_code\": \"RU\", \"region_name\": \"Russia\", \"iata\": \"\", \"icao\": \"UUWW\", \"airport\": \"Vnukovo International Airport\", \"latitude\": \"\", \"longitude\": \"\"},\n",
    "    {\"country_code\": \"DE\", \"region_name\": \"Germany\", \"iata\": \"\", \"icao\": \"EDTY\", \"airport\": \"Mannheim City Airport\", \"latitude\": \"\", \"longitude\": \"\"},\n",
    "    {\"country_code\": \"CZ\", \"region_name\": \"Czech Republic\", \"iata\": \"\", \"icao\": \"LKPM\", \"airport\": \"Přerov Airport\", \"latitude\": \"\", \"longitude\": \"\"},\n",
    "    {\"country_code\": \"BG\", \"region_name\": \"Bulgaria\", \"iata\": \"\", \"icao\": \"LRBS\", \"airport\": \"Sofia Airport\", \"latitude\": \"\", \"longitude\": \"\"},\n",
    "    {\"country_code\": \"TR\", \"region_name\": \"Turkey\", \"iata\": \"\", \"icao\": \"LTBJ\", \"airport\": \"İzmir Adnan Menderes Airport\", \"latitude\": \"\", \"longitude\": \"\"},\n",
    "    {\"country_code\": \"TN\", \"region_name\": \"Tunisia\", \"iata\": \"\", \"icao\": \"DTNZ\", \"airport\": \"Enfidha–Hammamet International Airport\", \"latitude\": \"\", \"longitude\": \"\"},\n",
    "    {\"country_code\": \"CZ\", \"region_name\": \"Czech Republic\", \"iata\": \"\", \"icao\": \"LKKB\", \"airport\": \"Kladno Airport\", \"latitude\": \"\", \"longitude\": \"\"},\n",
    "    {\"country_code\": \"\", \"region_name\": \"\", \"iata\": \"\", \"icao\": \"LFAV\", \"airport\": \"\", \"latitude\": \"\", \"longitude\": \"\"},\n",
    "    {\"country_code\": \"\", \"region_name\": \"\", \"iata\": \"\", \"icao\": \"LFTB\", \"airport\": \"\", \"latitude\": \"\", \"longitude\": \"\"},\n",
    "    {\"country_code\": \"\", \"region_name\": \"\", \"iata\": \"\", \"icao\": \"LSGL\", \"airport\": \"\", \"latitude\": \"\", \"longitude\": \"\"}\n",
    "]\n",
    "\n",
    "# Konwersja danych o kodach ICAO na DataFrame\n",
    "df_icao = pd.DataFrame(icao_data)\n",
    "\n",
    "# Połączenie obu DataFrame\n",
    "df_combined = pd.concat([df_existing, df_icao], ignore_index=True)\n",
    "\n",
    "# Zapis do pliku CSV\n",
    "#combined_csv_path = r'C:\\Users\\Adam\\Desktop\\ONS\\data\\combined_iata_icao.csv'\n",
    "combined_csv_path = r'A:\\repo_git\\ONS\\data\\combined_iata_icao.csv'\n",
    "df_combined.to_csv(combined_csv_path, index=False)\n",
    "\n",
    "print(f\"Dane zapisano do pliku: {combined_csv_path}\")"
   ]
  },
  {
   "cell_type": "code",
   "execution_count": null,
   "id": "6115d0d4-2292-44ec-ba09-6c3bbc5731dd",
   "metadata": {},
   "outputs": [],
   "source": []
  },
  {
   "cell_type": "code",
   "execution_count": null,
   "id": "1702c7f2-e077-4513-be34-222706fcb2cf",
   "metadata": {},
   "outputs": [],
   "source": []
  },
  {
   "cell_type": "code",
   "execution_count": null,
   "id": "df281df4-ec18-4c0d-be65-cf352697fe58",
   "metadata": {},
   "outputs": [],
   "source": []
  }
 ],
 "metadata": {
  "kernelspec": {
   "display_name": "Python 3 (ipykernel)",
   "language": "python",
   "name": "python3"
  },
  "language_info": {
   "codemirror_mode": {
    "name": "ipython",
    "version": 3
   },
   "file_extension": ".py",
   "mimetype": "text/x-python",
   "name": "python",
   "nbconvert_exporter": "python",
   "pygments_lexer": "ipython3",
   "version": "3.11.8"
  }
 },
 "nbformat": 4,
 "nbformat_minor": 5
}
