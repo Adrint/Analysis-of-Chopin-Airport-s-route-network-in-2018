{
 "cells": [
  {
   "cell_type": "code",
   "execution_count": 1,
   "id": "5947f8f2-a74b-4cff-8e6d-016d995a4ea9",
   "metadata": {},
   "outputs": [],
   "source": [
    "import json\n",
    "import os\n",
    "import re"
   ]
  },
  {
   "cell_type": "code",
   "execution_count": 3,
   "id": "91baa93f-5946-445b-98fc-a9370e570a9f",
   "metadata": {},
   "outputs": [],
   "source": [
    "#ściezka z danymi origin\n",
    "input_folder_orig = r'D:\\repo_git\\ONS\\data\\chopin\\orig'\n",
    "\n",
    "#lista plikow origin\n",
    "file_list_orig = ['1.json', '2.json', '3.json', '4.json', '5.json', '6.json','7.json', '8.json', '9.json', '10.json', '11.json', '12.json']"
   ]
  },
  {
   "cell_type": "code",
   "execution_count": 20,
   "id": "eaea01b6-b6fa-4084-bd81-e046ffe1712c",
   "metadata": {},
   "outputs": [],
   "source": [
    "import json\n",
    "import os\n",
    "import numpy as np\n",
    "import pandas as pd\n",
    "import matplotlib.pyplot as plt\n",
    "\n",
    "# Ścieżki do plików\n",
    "input_folder_orig = r'D:\\repo_git\\ONS\\data\\chopin\\orig'\n",
    "airports_csv = r'D:\\repo_git\\ONS\\data\\iata-icao.csv'\n",
    "\n",
    "# Wczytanie danych lotnisk z pliku CSV\n",
    "airports_df = pd.read_csv(airports_csv)\n",
    "\n",
    "# Mapowanie krajów na kod ICAO lotnisk\n",
    "country_to_icao = airports_df.set_index('icao')['country_code'].to_dict()\n",
    "country = airports_df.set_index('icao')['region_name'].to_dict()\n",
    "\n",
    "# Lista plików origin\n",
    "file_list_orig = ['1.json', '2.json', '3.json', '4.json', '5.json', '6.json', '7.json', '8.json', '9.json', '10.json', '11.json', '12.json']\n",
    "\n",
    "# Tworzenie listy do przechowywania wyników\n",
    "all_flights = []\n",
    "\n",
    "# Przetwarzanie plików z listy origin\n",
    "for filename in file_list_orig:\n",
    "    input_file_path = os.path.join(input_folder_orig, filename)\n",
    "\n",
    "    with open(input_file_path, 'r', encoding='utf-8') as infile:\n",
    "        for line in infile:\n",
    "            try:\n",
    "                data = json.loads(line)\n",
    "                all_flights.append(data)\n",
    "            except json.JSONDecodeError:\n",
    "                print(f\"Błąd dekodowania JSON w pliku {filename}, linia: {line}\")\n",
    "\n",
    "# Konwersja listy do DataFrame\n",
    "df = pd.DataFrame(all_flights)\n",
    "\n",
    "# Konwersja kolumny 'pitr' do formatu datetime\n",
    "df['pitr'] = pd.to_datetime(df['pitr'])\n",
    "\n",
    "# Dodanie kolumny 'month' na podstawie 'pitr'\n",
    "df['month'] = df['pitr'].dt.month\n",
    "\n",
    "# Zastąpienie kodów ICAO kodami krajów\n",
    "df['dest_country'] = df['dest'].map(country_to_icao).fillna(df['dest'])\n",
    "\n",
    "\n"
   ]
  },
  {
   "cell_type": "code",
   "execution_count": 22,
   "id": "778153b2-ea8c-4887-80b4-a33dc1221442",
   "metadata": {},
   "outputs": [
    {
     "name": "stdout",
     "output_type": "stream",
     "text": [
      "Liczba lotów z Polski do PL w miesiącu 1: 727\n"
     ]
    }
   ],
   "source": [
    "# Zliczenie ilości lotów z Polski do innych krajów w danym miesiącu\n",
    "flights_from_poland_per_month = df[df['orig'] == 'EPWA'].groupby(['month', 'dest_country']).size()\n",
    "\n",
    "# Przykładowe wyświetlenie dla miesiąca 1 i kraju PL (Polska)\n",
    "month = 1\n",
    "country = 'PL'\n",
    "if (month, country) in flights_from_poland_per_month.index:\n",
    "    count = flights_from_poland_per_month.loc[(month, country)]\n",
    "    print(f\"Liczba lotów z Polski do {country} w miesiącu {month}: {count}\")\n",
    "else:\n",
    "    print(f\"Brak lotów z Polski do {country} w miesiącu {month}\")\n"
   ]
  },
  {
   "cell_type": "code",
   "execution_count": null,
   "id": "9bd74e15-bcbe-4843-8efe-41420a717935",
   "metadata": {},
   "outputs": [],
   "source": []
  }
 ],
 "metadata": {
  "kernelspec": {
   "display_name": "Python 3 (ipykernel)",
   "language": "python",
   "name": "python3"
  },
  "language_info": {
   "codemirror_mode": {
    "name": "ipython",
    "version": 3
   },
   "file_extension": ".py",
   "mimetype": "text/x-python",
   "name": "python",
   "nbconvert_exporter": "python",
   "pygments_lexer": "ipython3",
   "version": "3.11.1"
  }
 },
 "nbformat": 4,
 "nbformat_minor": 5
}
